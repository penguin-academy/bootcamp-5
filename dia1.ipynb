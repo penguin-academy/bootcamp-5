{
 "cells": [
  {
   "cell_type": "code",
   "execution_count": 2,
   "metadata": {},
   "outputs": [
    {
     "name": "stdout",
     "output_type": "stream",
     "text": [
      "Hola Mundo\n"
     ]
    }
   ],
   "source": [
    "print(\"Hola Mundo\")"
   ]
  },
  {
   "cell_type": "markdown",
   "metadata": {},
   "source": [
    "# Operadores aritméticos"
   ]
  },
  {
   "cell_type": "markdown",
   "metadata": {},
   "source": [
    "Los operadores aritméticos son los que nos permiten cosas sencillas, como sumas, restas, multiplicaciones, divisiones, etc."
   ]
  },
  {
   "cell_type": "code",
   "execution_count": 12,
   "metadata": {},
   "outputs": [
    {
     "name": "stdout",
     "output_type": "stream",
     "text": [
      "6\n",
      "1\n",
      "36\n",
      "5.5\n",
      "5\n"
     ]
    },
    {
     "data": {
      "text/plain": [
       "4"
      ]
     },
     "execution_count": 12,
     "metadata": {},
     "output_type": "execute_result"
    }
   ],
   "source": [
    "print(1 + 2 + 3)\n",
    "\n",
    "print(10 - 9)\n",
    "\n",
    "print(12 * 3)\n",
    "\n",
    "print(11 / 2)\n",
    "\n",
    "print(11 // 2)\n",
    "\n",
    "11 % 2\n",
    "\n",
    "2 + 2"
   ]
  },
  {
   "cell_type": "code",
   "execution_count": 16,
   "metadata": {},
   "outputs": [
    {
     "data": {
      "text/plain": [
       "12"
      ]
     },
     "execution_count": 16,
     "metadata": {},
     "output_type": "execute_result"
    }
   ],
   "source": [
    "2 +               1 *        10 \n",
    "2 + 1 * 10"
   ]
  },
  {
   "cell_type": "code",
   "execution_count": 23,
   "metadata": {},
   "outputs": [
    {
     "name": "stdout",
     "output_type": "stream",
     "text": [
      "9.0\n"
     ]
    },
    {
     "data": {
      "text/plain": [
       "'\\nasd\\n'"
      ]
     },
     "execution_count": 23,
     "metadata": {},
     "output_type": "execute_result"
    }
   ],
   "source": [
    "print(2 * 2 + 12 / 2 - 1) # 9"
   ]
  },
  {
   "cell_type": "markdown",
   "metadata": {},
   "source": [
    "## Variable"
   ]
  },
  {
   "cell_type": "code",
   "execution_count": 24,
   "metadata": {},
   "outputs": [
    {
     "name": "stdout",
     "output_type": "stream",
     "text": [
      "10\n"
     ]
    }
   ],
   "source": [
    "numero1 = 10\n",
    "\n",
    "print(numero1)"
   ]
  },
  {
   "cell_type": "markdown",
   "metadata": {},
   "source": [
    "## Crear dos variables, asignar valores numéricos, y sumar los valores"
   ]
  },
  {
   "cell_type": "code",
   "execution_count": 25,
   "metadata": {},
   "outputs": [
    {
     "name": "stdout",
     "output_type": "stream",
     "text": [
      "33\n"
     ]
    }
   ],
   "source": [
    "numero1 = 11\n",
    "numero2 = 22\n",
    "\n",
    "print(numero1+numero2)"
   ]
  },
  {
   "cell_type": "code",
   "execution_count": 26,
   "metadata": {},
   "outputs": [
    {
     "name": "stdout",
     "output_type": "stream",
     "text": [
      "50\n"
     ]
    }
   ],
   "source": [
    "numero1 = 20\n",
    "numero2 = 30\n",
    "\n",
    "suma = numero1 + numero2\n",
    "\n",
    "print(suma)"
   ]
  },
  {
   "cell_type": "code",
   "execution_count": 27,
   "metadata": {},
   "outputs": [
    {
     "name": "stdout",
     "output_type": "stream",
     "text": [
      "30\n"
     ]
    }
   ],
   "source": [
    "numero1 = 10\n",
    "numero2 = 20\n",
    "\n",
    "numero3 = (numero1 + numero2)\n",
    "\n",
    "print(numero3)"
   ]
  },
  {
   "cell_type": "markdown",
   "metadata": {},
   "source": [
    "## Reglas para identificadores (nombres de variables)\n",
    "\n",
    "- No puede comenzar con un número\n",
    "- Siempre debe estar en minúsculas\n",
    "- Si nuestro identificador tiene más de una palabra, separamos las palabras con guiones bajos: `suma_citrica`."
   ]
  },
  {
   "cell_type": "markdown",
   "metadata": {},
   "source": [
    "---"
   ]
  },
  {
   "cell_type": "markdown",
   "metadata": {},
   "source": [
    "## Tipos de datos: primitivos"
   ]
  },
  {
   "cell_type": "markdown",
   "metadata": {},
   "source": [
    "### Números enteros (integers, int)"
   ]
  },
  {
   "cell_type": "markdown",
   "metadata": {},
   "source": [
    "### Números de punto flotante, decimales (floats)"
   ]
  },
  {
   "cell_type": "code",
   "execution_count": null,
   "metadata": {},
   "outputs": [],
   "source": [
    "# Números enteros\n",
    "1\n",
    "12\n",
    "256\n",
    "\n",
    "# Números decimales (floats)\n",
    "3.14 # Pi\n",
    "1.99\n",
    "100.123"
   ]
  },
  {
   "cell_type": "markdown",
   "metadata": {},
   "source": [
    "## Cadena de caracteres: texto, strings"
   ]
  },
  {
   "cell_type": "code",
   "execution_count": 28,
   "metadata": {},
   "outputs": [
    {
     "name": "stdout",
     "output_type": "stream",
     "text": [
      "Hola Mundo\n"
     ]
    }
   ],
   "source": [
    "print(\"Hola Mundo\")"
   ]
  },
  {
   "cell_type": "markdown",
   "metadata": {},
   "source": [
    "## Booleanos"
   ]
  },
  {
   "cell_type": "code",
   "execution_count": 30,
   "metadata": {},
   "outputs": [
    {
     "name": "stdout",
     "output_type": "stream",
     "text": [
      "True\n",
      "False\n"
     ]
    }
   ],
   "source": [
    "es_vegetariano = True\n",
    "come_carne = False\n",
    "\n",
    "print(es_vegetariano)\n",
    "print(come_carne)"
   ]
  },
  {
   "cell_type": "markdown",
   "metadata": {},
   "source": [
    "---"
   ]
  },
  {
   "cell_type": "markdown",
   "metadata": {},
   "source": [
    "## Jugando con cadenas de caracteres (texto)"
   ]
  },
  {
   "cell_type": "code",
   "execution_count": 31,
   "metadata": {},
   "outputs": [
    {
     "name": "stdout",
     "output_type": "stream",
     "text": [
      "Enmanuel\n",
      "Ruffinelli\n"
     ]
    }
   ],
   "source": [
    "nombre = 'Enmanuel'\n",
    "apellido = \"Ruffinelli\"\n",
    "\n",
    "print(nombre)\n",
    "print(apellido)"
   ]
  },
  {
   "cell_type": "markdown",
   "metadata": {},
   "source": [
    "## Sumar textos = Concatenación"
   ]
  },
  {
   "cell_type": "code",
   "execution_count": 41,
   "metadata": {},
   "outputs": [
    {
     "name": "stdout",
     "output_type": "stream",
     "text": [
      "EnmanuelRuffinelli\n",
      "EnmanuelRuffinelli,\n",
      "Enmanuel Ruffinelli\n",
      "Enmanuel Ruffinelli\n",
      "Enmanuel Ruffinelli\n"
     ]
    }
   ],
   "source": [
    "nombre = 'Enmanuel'\n",
    "apellido = \"Ruffinelli\"\n",
    "\n",
    "print(nombre + apellido)\n",
    "\n",
    "print(nombre + apellido + \",\" )\n",
    "print(nombre , apellido)\n",
    "print(nombre + \" \" + apellido)\n",
    "print(nombre,apellido)"
   ]
  },
  {
   "cell_type": "markdown",
   "metadata": {},
   "source": [
    "### Ejercicio \n",
    "\n",
    "Crear tres variables, `nombre`, `apellido`, `edad`, y concatenar la frase final. Frase final: Hola. Mi nombre es Fulano de Tal. Mucho gusto. Y tengo X años."
   ]
  },
  {
   "cell_type": "code",
   "execution_count": 2,
   "metadata": {},
   "outputs": [
    {
     "ename": "TypeError",
     "evalue": "can only concatenate str (not \"int\") to str",
     "output_type": "error",
     "traceback": [
      "\u001b[0;31m---------------------------------------------------------------------------\u001b[0m",
      "\u001b[0;31mTypeError\u001b[0m                                 Traceback (most recent call last)",
      "\u001b[1;32m/Users/atari/Documents/penguin/bootcamp-5/dia1.ipynb Cell 29'\u001b[0m in \u001b[0;36m<module>\u001b[0;34m\u001b[0m\n\u001b[1;32m      <a href='vscode-notebook-cell:/Users/atari/Documents/penguin/bootcamp-5/dia1.ipynb#ch0000034?line=1'>2</a>\u001b[0m apellido \u001b[39m=\u001b[39m \u001b[39m\"\u001b[39m\u001b[39mCaligari\u001b[39m\u001b[39m\"\u001b[39m\n\u001b[1;32m      <a href='vscode-notebook-cell:/Users/atari/Documents/penguin/bootcamp-5/dia1.ipynb#ch0000034?line=2'>3</a>\u001b[0m edad \u001b[39m=\u001b[39m \u001b[39m24\u001b[39m\n\u001b[0;32m----> <a href='vscode-notebook-cell:/Users/atari/Documents/penguin/bootcamp-5/dia1.ipynb#ch0000034?line=5'>6</a>\u001b[0m \u001b[39mprint\u001b[39m(\u001b[39m\"\u001b[39;49m\u001b[39mHola. Mi nombre es \u001b[39;49m\u001b[39m\"\u001b[39;49m \u001b[39m+\u001b[39;49m nombre \u001b[39m+\u001b[39;49m \u001b[39m\"\u001b[39;49m\u001b[39m \u001b[39;49m\u001b[39m\"\u001b[39;49m \u001b[39m+\u001b[39;49m apellido \u001b[39m+\u001b[39;49m \u001b[39m\"\u001b[39;49m\u001b[39m. Mucho gusto. Tengo \u001b[39;49m\u001b[39m\"\u001b[39;49m \u001b[39m+\u001b[39;49m edad)\n",
      "\u001b[0;31mTypeError\u001b[0m: can only concatenate str (not \"int\") to str"
     ]
    }
   ],
   "source": [
    "nombre = \"Costanza\"\n",
    "apellido = \"Caligari\"\n",
    "edad = 24\n",
    "\n",
    "\n",
    "print(\"Hola. Mi nombre es \" + nombre + \" \" + apellido + \". Mucho gusto. Tengo \" + edad)"
   ]
  },
  {
   "cell_type": "code",
   "execution_count": 43,
   "metadata": {},
   "outputs": [
    {
     "name": "stdout",
     "output_type": "stream",
     "text": [
      "Hola mi nombre es RafaelEscobar , mucho gusto y tengo 16 años\n"
     ]
    }
   ],
   "source": [
    "nombre = \"Rafael\"\n",
    "apellido = \"Escobar\"\n",
    "nombre_completo = nombre+apellido\n",
    "edad = \"16\"\n",
    "saludo = \"Hola\"\n",
    "z = \"mi nombre es\" + \" \" + nombre_completo\n",
    "c = \", mucho gusto\"\n",
    "v = \"y tengo\" + \" \" + edad + \" \" + \"años\"\n",
    "\n",
    "print(saludo + \" \" + z + \" \" + c + \" \" + v)"
   ]
  },
  {
   "cell_type": "markdown",
   "metadata": {},
   "source": [
    "---"
   ]
  },
  {
   "cell_type": "markdown",
   "metadata": {},
   "source": [
    "## Convirtiendo datos a un tipo diferente"
   ]
  },
  {
   "cell_type": "code",
   "execution_count": 61,
   "metadata": {},
   "outputs": [
    {
     "name": "stdout",
     "output_type": "stream",
     "text": [
      "10\n",
      "20\n",
      "30\n"
     ]
    }
   ],
   "source": [
    "# Primer ingreso de numero\n",
    "numero1 = int(input(\"Escriba un numero, por favor: \"))\n",
    "print(numero1)\n",
    "\n",
    "# Segundo ingreso de numero\n",
    "numero2 = int(input(\"Escriba otro numero, por favor:\"))\n",
    "print(numero2)\n",
    "\n",
    "# Tipo de variable\n",
    "# print(type(numero1))\n",
    "# print(type(numero2))\n",
    "\n",
    "# Conversión de tipo de dato\n",
    "# numero1 = int(numero1)\n",
    "# numero2 = int(numero2)\n",
    "\n",
    "# Suma de ambas variables\n",
    "print(numero1 + numero2)"
   ]
  },
  {
   "cell_type": "markdown",
   "metadata": {},
   "source": [
    "## Número a texto"
   ]
  },
  {
   "cell_type": "code",
   "execution_count": 65,
   "metadata": {},
   "outputs": [
    {
     "name": "stdout",
     "output_type": "stream",
     "text": [
      "El valor de Pi es 3.141592\n"
     ]
    }
   ],
   "source": [
    "frase_pi = \"El valor de Pi es \"\n",
    "valor_pi = 3.141592\n",
    "\n",
    "print(frase_pi + str(valor_pi))"
   ]
  },
  {
   "cell_type": "markdown",
   "metadata": {},
   "source": [
    "### Ejercicio\n",
    "\n",
    "Solicitar por teclado al usuario los siguientes datos: nombre, apellido, año de nacimiento. En pantalla: \"Mi nombre es X, y tengo X anhos\""
   ]
  }
 ],
 "metadata": {
  "interpreter": {
   "hash": "31f2aee4e71d21fbe5cf8b01ff0e069b9275f58929596ceb00d14d90e3e16cd6"
  },
  "kernelspec": {
   "display_name": "Python 3.8.9 64-bit",
   "language": "python",
   "name": "python3"
  },
  "language_info": {
   "codemirror_mode": {
    "name": "ipython",
    "version": 3
   },
   "file_extension": ".py",
   "mimetype": "text/x-python",
   "name": "python",
   "nbconvert_exporter": "python",
   "pygments_lexer": "ipython3",
   "version": "3.9.10"
  },
  "orig_nbformat": 4
 },
 "nbformat": 4,
 "nbformat_minor": 2
}
