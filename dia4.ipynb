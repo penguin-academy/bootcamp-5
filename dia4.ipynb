{
 "cells": [
  {
   "cell_type": "markdown",
   "metadata": {},
   "source": [
    "### Ejercicio\n",
    "\n",
    "Crear una función para llamar contactos, y asignar diferentes contactos a 4 numeros: 1, 2, 3, 4.\n",
    "\n",
    "A la funcion le vamos a pasar un numero y me imprime que \"está llamando a X contacto\"."
   ]
  },
  {
   "cell_type": "code",
   "execution_count": 5,
   "metadata": {},
   "outputs": [],
   "source": [
    "# Solución de Ara\n",
    "\n",
    "def llamar_contacto():\n",
    "    numero_contacto = int(input(\"Seleccione un numero para elegir un contacto\"))\n",
    "\n",
    "    if numero_contacto == 1:\n",
    "        print(\"Llamando a Maria\")\n",
    "    if numero_contacto == 2:\n",
    "        print(\"Llamando a Jose\")\n",
    "    if numero_contacto == 3:\n",
    "        print(\"Llamando a Karen\")\n",
    "    if numero_contacto == 4:\n",
    "        print(\"Llamando a David\")\n",
    "\n",
    "llamar_contacto()"
   ]
  },
  {
   "cell_type": "code",
   "execution_count": 8,
   "metadata": {},
   "outputs": [
    {
     "name": "stdout",
     "output_type": "stream",
     "text": [
      "Lo siento, solo hay 4 contactos.\n"
     ]
    }
   ],
   "source": [
    "# Solución de Gabi\n",
    "\n",
    "def llamando_contacto(numero):\n",
    "\n",
    "    if numero == 1:\n",
    "        print(\"Llamando a Mama...\")\n",
    "    \n",
    "    elif numero == 2:\n",
    "        print(\"Llamando a Techi...\")\n",
    "\n",
    "    elif numero == 3:\n",
    "        print(\"Llamando a Papa...\")\n",
    "\n",
    "    elif numero == 4:\n",
    "        print(\"Llamando a Mulan...\")\n",
    "\n",
    "    elif numero < 1:\n",
    "        print(\"Lo siento, numeros negativos no son aceptados.\")\n",
    "    \n",
    "    elif numero > 4:\n",
    "        print(\"Lo siento, solo hay 4 contactos.\")\n",
    "    \n",
    "llamando_contacto(int(input(\"Introduzca un numero: \")))"
   ]
  },
  {
   "cell_type": "code",
   "execution_count": 16,
   "metadata": {},
   "outputs": [
    {
     "name": "stdout",
     "output_type": "stream",
     "text": [
      "Llamando a  Fer\n"
     ]
    }
   ],
   "source": [
    "# Solución de Jenn\n",
    "\n",
    "contacto = int(input(\"Ingrese el numero: \"))\n",
    "\n",
    "lista = [\"Jenny\", \"Alex\", \"Bruno\", \"Edu\", \"Fer\"]\n",
    "cantidad_de_contactos = len(lista)\n",
    "\n",
    "def llamar_contacto(numero):\n",
    "    if numero < cantidad_de_contactos:\n",
    "        print(\"Llamando a \", lista[numero])\n",
    "    else:\n",
    "        print(\"No existe ningun contacto.\")\n",
    "\n",
    "llamar_contacto(contacto-1)"
   ]
  },
  {
   "cell_type": "code",
   "execution_count": 21,
   "metadata": {},
   "outputs": [
    {
     "name": "stdout",
     "output_type": "stream",
     "text": [
      "Coaches disponibles: \n",
      "1: Enma\n",
      "2: Alex\n",
      "3: Enri\n",
      "Llamando a Alex...\n",
      "Coaches disponibles: \n",
      "1: Enma\n",
      "2: Alex\n",
      "3: Enri\n"
     ]
    },
    {
     "ename": "KeyboardInterrupt",
     "evalue": "Interrupted by user",
     "output_type": "error",
     "traceback": [
      "\u001b[0;31m---------------------------------------------------------------------------\u001b[0m",
      "\u001b[0;31mKeyboardInterrupt\u001b[0m                         Traceback (most recent call last)",
      "Input \u001b[0;32mIn [21]\u001b[0m, in \u001b[0;36m<module>\u001b[0;34m\u001b[0m\n\u001b[1;32m     19\u001b[0m \u001b[38;5;28mprint\u001b[39m(\u001b[38;5;124m\"\u001b[39m\u001b[38;5;124mCoaches disponibles: \u001b[39m\u001b[38;5;124m\"\u001b[39m)\n\u001b[1;32m     20\u001b[0m imprimir_lista_de_coaches(coaches)\n\u001b[0;32m---> 22\u001b[0m numero_del_coach_seleccionado \u001b[38;5;241m=\u001b[39m \u001b[38;5;28mint\u001b[39m(\u001b[38;5;28;43minput\u001b[39;49m\u001b[43m(\u001b[49m\u001b[38;5;124;43m\"\u001b[39;49m\u001b[38;5;124;43mIngresar el numero de un coach de la lista: \u001b[39;49m\u001b[38;5;124;43m\"\u001b[39;49m\u001b[43m)\u001b[49m) \u001b[38;5;241m-\u001b[39m \u001b[38;5;241m1\u001b[39m\n\u001b[1;32m     24\u001b[0m llamar_al_coach_seleccionado(numero_del_coach_seleccionado, coaches)\n",
      "File \u001b[0;32m~/Library/Python/3.8/lib/python/site-packages/ipykernel/kernelbase.py:1044\u001b[0m, in \u001b[0;36mKernel.raw_input\u001b[0;34m(self, prompt)\u001b[0m\n\u001b[1;32m   1040\u001b[0m \u001b[38;5;28;01mif\u001b[39;00m \u001b[38;5;129;01mnot\u001b[39;00m \u001b[38;5;28mself\u001b[39m\u001b[38;5;241m.\u001b[39m_allow_stdin:\n\u001b[1;32m   1041\u001b[0m     \u001b[38;5;28;01mraise\u001b[39;00m StdinNotImplementedError(\n\u001b[1;32m   1042\u001b[0m         \u001b[38;5;124m\"\u001b[39m\u001b[38;5;124mraw_input was called, but this frontend does not support input requests.\u001b[39m\u001b[38;5;124m\"\u001b[39m\n\u001b[1;32m   1043\u001b[0m     )\n\u001b[0;32m-> 1044\u001b[0m \u001b[38;5;28;01mreturn\u001b[39;00m \u001b[38;5;28;43mself\u001b[39;49m\u001b[38;5;241;43m.\u001b[39;49m\u001b[43m_input_request\u001b[49m\u001b[43m(\u001b[49m\n\u001b[1;32m   1045\u001b[0m \u001b[43m    \u001b[49m\u001b[38;5;28;43mstr\u001b[39;49m\u001b[43m(\u001b[49m\u001b[43mprompt\u001b[49m\u001b[43m)\u001b[49m\u001b[43m,\u001b[49m\n\u001b[1;32m   1046\u001b[0m \u001b[43m    \u001b[49m\u001b[38;5;28;43mself\u001b[39;49m\u001b[38;5;241;43m.\u001b[39;49m\u001b[43m_parent_ident\u001b[49m\u001b[43m[\u001b[49m\u001b[38;5;124;43m\"\u001b[39;49m\u001b[38;5;124;43mshell\u001b[39;49m\u001b[38;5;124;43m\"\u001b[39;49m\u001b[43m]\u001b[49m\u001b[43m,\u001b[49m\n\u001b[1;32m   1047\u001b[0m \u001b[43m    \u001b[49m\u001b[38;5;28;43mself\u001b[39;49m\u001b[38;5;241;43m.\u001b[39;49m\u001b[43mget_parent\u001b[49m\u001b[43m(\u001b[49m\u001b[38;5;124;43m\"\u001b[39;49m\u001b[38;5;124;43mshell\u001b[39;49m\u001b[38;5;124;43m\"\u001b[39;49m\u001b[43m)\u001b[49m\u001b[43m,\u001b[49m\n\u001b[1;32m   1048\u001b[0m \u001b[43m    \u001b[49m\u001b[43mpassword\u001b[49m\u001b[38;5;241;43m=\u001b[39;49m\u001b[38;5;28;43;01mFalse\u001b[39;49;00m\u001b[43m,\u001b[49m\n\u001b[1;32m   1049\u001b[0m \u001b[43m\u001b[49m\u001b[43m)\u001b[49m\n",
      "File \u001b[0;32m~/Library/Python/3.8/lib/python/site-packages/ipykernel/kernelbase.py:1089\u001b[0m, in \u001b[0;36mKernel._input_request\u001b[0;34m(self, prompt, ident, parent, password)\u001b[0m\n\u001b[1;32m   1086\u001b[0m             \u001b[38;5;28;01mbreak\u001b[39;00m\n\u001b[1;32m   1087\u001b[0m \u001b[38;5;28;01mexcept\u001b[39;00m \u001b[38;5;167;01mKeyboardInterrupt\u001b[39;00m:\n\u001b[1;32m   1088\u001b[0m     \u001b[38;5;66;03m# re-raise KeyboardInterrupt, to truncate traceback\u001b[39;00m\n\u001b[0;32m-> 1089\u001b[0m     \u001b[38;5;28;01mraise\u001b[39;00m \u001b[38;5;167;01mKeyboardInterrupt\u001b[39;00m(\u001b[38;5;124m\"\u001b[39m\u001b[38;5;124mInterrupted by user\u001b[39m\u001b[38;5;124m\"\u001b[39m) \u001b[38;5;28;01mfrom\u001b[39;00m \u001b[38;5;28mNone\u001b[39m\n\u001b[1;32m   1090\u001b[0m \u001b[38;5;28;01mexcept\u001b[39;00m \u001b[38;5;167;01mException\u001b[39;00m:\n\u001b[1;32m   1091\u001b[0m     \u001b[38;5;28mself\u001b[39m\u001b[38;5;241m.\u001b[39mlog\u001b[38;5;241m.\u001b[39mwarning(\u001b[38;5;124m\"\u001b[39m\u001b[38;5;124mInvalid Message:\u001b[39m\u001b[38;5;124m\"\u001b[39m, exc_info\u001b[38;5;241m=\u001b[39m\u001b[38;5;28;01mTrue\u001b[39;00m)\n",
      "\u001b[0;31mKeyboardInterrupt\u001b[0m: Interrupted by user"
     ]
    }
   ],
   "source": [
    "coaches = [\"Enma\", \"Alex\", \"Enri\"]\n",
    "\n",
    "def imprimir_lista_de_coaches(coaches):\n",
    "    for indice_del_coach in range(len(coaches)):\n",
    "        numero_del_coach = indice_del_coach + 1\n",
    "        print(str(numero_del_coach) + \": \" + coaches[indice_del_coach])\n",
    "\n",
    "\n",
    "def llamar_al_coach_seleccionado(numero_del_coach, coaches):\n",
    "    if (numero_del_coach < len(coaches) and numero_del_coach >= 0):\n",
    "        coach = coaches[numero_del_coach]\n",
    "        print(\"Llamando a \" + coach + \"...\")\n",
    "        input(\"Para cortar ingrese la palabra 'fin'\")\n",
    "    else:\n",
    "        print(\"El numero seleccionado no corresponde a ningun coach. Intentar nuevamente.\")\n",
    "\n",
    "\n",
    "while True:\n",
    "    print(\"Coaches disponibles: \")\n",
    "    imprimir_lista_de_coaches(coaches)\n",
    "\n",
    "    numero_del_coach_seleccionado = int(input(\"Ingresar el numero de un coach de la lista: \")) - 1\n",
    "\n",
    "    llamar_al_coach_seleccionado(numero_del_coach_seleccionado, coaches)"
   ]
  },
  {
   "cell_type": "markdown",
   "metadata": {},
   "source": [
    "---"
   ]
  },
  {
   "cell_type": "markdown",
   "metadata": {},
   "source": [
    "# Diccionarios"
   ]
  },
  {
   "cell_type": "code",
   "execution_count": 42,
   "metadata": {},
   "outputs": [
    {
     "name": "stdout",
     "output_type": "stream",
     "text": [
      "Enmanuel\n",
      "Manuel del Castillo\n",
      "{'nombre': 'Enmanuel', 'apellido': 'Ruffinelli', 'numero_de_telefono': '595982440500', 'direccion': 'Manuel del Castillo', 'barrio': 'Los Laureles'}\n",
      "{'nombre': 'Enmanuel', 'apellido': 'Ruffinelli', 'numero_de_telefono': '595982440500', 'direccion': 'Manuel del Castillo', 'barrio': 'Recoleta'}\n",
      "{'nombre': 'Enmanuel', 'apellido': 'Ruffinelli', 'numero_de_telefono': '595982440500', 'direccion': 'Manuel del Castillo'}\n",
      "{'nombre': 'Enmanuel', 'numero_de_telefono': '595982440500', 'direccion': 'Manuel del Castillo'}\n",
      "dict_keys(['nombre', 'numero_de_telefono', 'direccion'])\n",
      "dict_values(['Enmanuel', '595982440500', 'Manuel del Castillo'])\n",
      "dict_items([('nombre', 'Enmanuel'), ('numero_de_telefono', '595982440500'), ('direccion', 'Manuel del Castillo')])\n"
     ]
    }
   ],
   "source": [
    "mi_tarjeta_personal = {\"nombre\": \"Enmanuel\", \"apellido\": \"Ruffinelli\", \"numero_de_telefono\": \"595982440500\", \"direccion\": \"Manuel del Castillo\"}\n",
    "\n",
    "{\n",
    "    \"nombre\": \"Enmanuel\",\n",
    "    \"apellido\": \"Ruffinelli\",\n",
    "    \"numero_de_telefono\": \"595982440500\",\n",
    "    \"direccion\": \"Manuel del Castillo\",\n",
    "    123: \"hello\"\n",
    "}\n",
    "\n",
    "lista = {\n",
    "    0: \"nombre\",\n",
    "    1: \"apellido\"\n",
    "}\n",
    "\n",
    "computadora = {\n",
    "    \"marca\": \" \",\n",
    "    \"modelo\": \"Macbook Air\",\n",
    "    \"anho\": 2017\n",
    "}\n",
    "\n",
    "# Acceder a datos del diccionario\n",
    "print(mi_tarjeta_personal[\"nombre\"])\n",
    "print(mi_tarjeta_personal[\"direccion\"])\n",
    "\n",
    "# Añadir datos al diccionario\n",
    "mi_tarjeta_personal[\"barrio\"] = \"Los Laureles\"\n",
    "print(mi_tarjeta_personal)\n",
    "\n",
    "# Actualizar datos al diccionario\n",
    "mi_tarjeta_personal[\"barrio\"] = \"Recoleta\"\n",
    "print(mi_tarjeta_personal)\n",
    "\n",
    "# Eliminar datos del diccionario\n",
    "mi_tarjeta_personal.popitem()\n",
    "print(mi_tarjeta_personal)\n",
    "\n",
    "# Eliminar datos del diccionario: por clave\n",
    "del mi_tarjeta_personal[\"apellido\"]\n",
    "print(mi_tarjeta_personal)\n",
    "\n",
    "# Desplegar datos del diccionario\n",
    "print(mi_tarjeta_personal.keys())\n",
    "print(mi_tarjeta_personal.values())\n",
    "print(mi_tarjeta_personal.items())\n",
    "\n"
   ]
  },
  {
   "cell_type": "code",
   "execution_count": 43,
   "metadata": {},
   "outputs": [
    {
     "name": "stdout",
     "output_type": "stream",
     "text": [
      "{'telefono': '994256673', 'edad': 21}\n"
     ]
    }
   ],
   "source": [
    "contacto = {}\n",
    "\n",
    "contacto[\"nombre\"] = \"Enrique\"\n",
    "contacto[\"apellido\"] = \"Zarate\"\n",
    "contacto[\"telefonos\"] = [\"994256673\", \"981123123\"]\n",
    "contacto[\"edad\"] = 21\n",
    "print(contacto)\n",
    "contacto[\"direccion\"] = [\"Asuncion 123\", \"Fdo 321\"]\n"
   ]
  },
  {
   "cell_type": "code",
   "execution_count": 51,
   "metadata": {},
   "outputs": [
    {
     "name": "stdout",
     "output_type": "stream",
     "text": [
      "993123123\n",
      "994111222\n"
     ]
    }
   ],
   "source": [
    "contacto2 = {}\n",
    "\n",
    "contacto2[\"Nombre\"] = \"Alex\"\n",
    "contacto2[\"Apellido\"] = \"Caceres\"\n",
    "contacto2[\"Telefonos\"] = {\n",
    "    \"Personal\" : \"993123123\",\n",
    "    \"Trabajo\" : \"994256666\"\n",
    "}\n",
    "print(contacto2[\"Telefonos\"][\"Personal\"])\n",
    "contacto2[\"Telefonos\"]= [\n",
    "    {\n",
    "    \"etiqueta\" : \"Personal\",\n",
    "    \"Numero\" : \"994111222\"\n",
    "    },\n",
    "    {\n",
    "    \"etiqueta\" : \"Trabajo\",\n",
    "    \"Numero\" : \"994333111\" \n",
    "    }\n",
    "]\n",
    "print(contacto2[\"Telefonos\"][0][\"Numero\"])"
   ]
  },
  {
   "cell_type": "markdown",
   "metadata": {},
   "source": [
    "---"
   ]
  },
  {
   "cell_type": "markdown",
   "metadata": {},
   "source": [
    "### Ejercicio: Agenda\n",
    "\n",
    "El usuario puede elegir:\n",
    "- Mostrar los contactos\n",
    "- Crear contacto\n",
    "- Modificar datos del contacto\n",
    "- Eliminar datos del contacto\n",
    "- Eliminar contacto"
   ]
  },
  {
   "cell_type": "code",
   "execution_count": 57,
   "metadata": {},
   "outputs": [
    {
     "ename": "NameError",
     "evalue": "name 'mostrar_contactos' is not defined",
     "output_type": "error",
     "traceback": [
      "\u001b[0;31m---------------------------------------------------------------------------\u001b[0m",
      "\u001b[0;31mNameError\u001b[0m                                 Traceback (most recent call last)",
      "Input \u001b[0;32mIn [57]\u001b[0m, in \u001b[0;36m<module>\u001b[0;34m\u001b[0m\n\u001b[1;32m     19\u001b[0m     crear_contacto(nombre_del_contacto, apellido_del_contacto, telefono_del_contacto)\n\u001b[1;32m     20\u001b[0m \u001b[38;5;28;01melif\u001b[39;00m opcion \u001b[38;5;241m==\u001b[39m \u001b[38;5;241m1\u001b[39m:\n\u001b[0;32m---> 21\u001b[0m     \u001b[43mmostrar_contactos\u001b[49m()\n\u001b[1;32m     22\u001b[0m opcion \u001b[38;5;241m=\u001b[39m \u001b[38;5;28mint\u001b[39m(\u001b[38;5;28minput\u001b[39m(\u001b[38;5;124m\"\u001b[39m\u001b[38;5;124mElegi la opcion: \u001b[39m\u001b[38;5;124m\"\u001b[39m))\n",
      "\u001b[0;31mNameError\u001b[0m: name 'mostrar_contactos' is not defined"
     ]
    }
   ],
   "source": [
    "def crear_contacto(nombre, apellido, telef):\n",
    "    contacto = {}\n",
    "    contacto[\"nombre\"] = nombre\n",
    "    contacto[\"apellido\"] = apellido\n",
    "    contacto[\"telefono\"] = telef\n",
    "    print(contacto)\n",
    "    agenda.append(contacto)\n",
    "    print(agenda)\n",
    "\n",
    "agenda = []\n",
    "\n",
    "opcion = int(input(\"Elegi la opcion: \"))\n",
    "\n",
    "while True:\n",
    "    if opcion == 2:\n",
    "        nombre_del_contacto = input(\"Ingrese nombre del contacto: \")\n",
    "        apellido_del_contacto = input(\"Ingrese apellido del contacto\")\n",
    "        telefono_del_contacto = \"\"\n",
    "        crear_contacto(nombre_del_contacto, apellido_del_contacto, telefono_del_contacto)\n",
    "    elif opcion == 1:\n",
    "        mostrar_contactos()\n",
    "    opcion = int(input(\"Elegi la opcion: \"))\n",
    "\n",
    "#while nombre_del_contacto != \"fin\":\n",
    "\n"
   ]
  },
  {
   "cell_type": "code",
   "execution_count": 65,
   "metadata": {},
   "outputs": [
    {
     "name": "stdout",
     "output_type": "stream",
     "text": [
      "[{'Nombre': 'Enrique', 'Apellido': 'Zarate', 'Telefono': '1234', 'Direccion': 'Asu'}]\n",
      "Numero 1 Enrique\n",
      "[{'Nombre': 'Enrique', 'Apellido': 'Zarate', 'Telefono': '1234', 'Direccion': 'Asu'}, {'Nombre': 'Enma', 'Apellido': 'Rufinelli', 'Telefono': '21231', 'Direccion': 'Asu'}]\n",
      "Numero 1 Enrique\n",
      "Numero 2 Enma\n"
     ]
    },
    {
     "ename": "ValueError",
     "evalue": "invalid literal for int() with base 10: ''",
     "output_type": "error",
     "traceback": [
      "\u001b[0;31m---------------------------------------------------------------------------\u001b[0m",
      "\u001b[0;31mValueError\u001b[0m                                Traceback (most recent call last)",
      "Input \u001b[0;32mIn [65]\u001b[0m, in \u001b[0;36m<module>\u001b[0;34m\u001b[0m\n\u001b[1;32m     42\u001b[0m         \u001b[38;5;28mprint\u001b[39m(\u001b[38;5;124m\"\u001b[39m\u001b[38;5;124mNumero \u001b[39m\u001b[38;5;124m\"\u001b[39m \u001b[38;5;241m+\u001b[39m \u001b[38;5;28mstr\u001b[39m(index \u001b[38;5;241m+\u001b[39m \u001b[38;5;241m1\u001b[39m), \n\u001b[1;32m     43\u001b[0m         persona[\u001b[38;5;124m\"\u001b[39m\u001b[38;5;124mNombre\u001b[39m\u001b[38;5;124m\"\u001b[39m] )\n\u001b[1;32m     45\u001b[0m     nro_que_quiere_ver \u001b[38;5;241m=\u001b[39m \u001b[38;5;28mint\u001b[39m(\u001b[38;5;28minput\u001b[39m(\u001b[38;5;124m\"\u001b[39m\u001b[38;5;124mNro que quiere ver\u001b[39m\u001b[38;5;124m\"\u001b[39m))\n\u001b[0;32m---> 47\u001b[0m opcion \u001b[38;5;241m=\u001b[39m \u001b[38;5;28;43mint\u001b[39;49m\u001b[43m(\u001b[49m\u001b[38;5;28;43minput\u001b[39;49m\u001b[43m(\u001b[49m\u001b[38;5;124;43m\"\u001b[39;49m\u001b[38;5;124;43mSeleccione una opcion: \u001b[39;49m\u001b[38;5;124;43m\"\u001b[39;49m\u001b[43m)\u001b[49m\u001b[43m)\u001b[49m\n",
      "\u001b[0;31mValueError\u001b[0m: invalid literal for int() with base 10: ''"
     ]
    }
   ],
   "source": [
    "\n",
    "def crear_contacto(nombre, apellido, telefono, direccion):\n",
    "    # Crear diccionario\n",
    "    contacto = {}\n",
    "    # Cargar datos\n",
    "    contacto[\"Nombre\"] = nombre\n",
    "    contacto[\"Apellido\"] = apellido\n",
    "    contacto[\"Telefono\"] = telefono\n",
    "    contacto[\"Direccion\"] = direccion\n",
    "    # Cargar a agenda\n",
    "    agenda.append(contacto)\n",
    "\n",
    "agenda = []\n",
    "\n",
    "def mostrar_contacto(agenda):\n",
    "    for contacto in agenda:\n",
    "        #print(agenda[0][\"Nombre\"])\n",
    "        print(\"Nombre:\", contacto[\"Nombre\"])\n",
    "        print(\"Apellido:\", contacto[\"Apellido\"])\n",
    "        print(\"Telefono:\", contacto[\"Telefono\"])\n",
    "        print(\"Direccion:\", contacto[\"Direccion\"])\n",
    "\n",
    "# Preguntar por opcion\n",
    "opcion = int(input(\"Seleccione una opcion: \"))\n",
    "\n",
    "while True:\n",
    "    if opcion == 2:\n",
    "        # Carga de datos\n",
    "        nombre_del_contacto = input(\"Ingrese nombre\")\n",
    "        apellido_del_contacto = input(\"Ingrese apellido\")\n",
    "        telefono_del_contacto = input(\"Ingrese telefono\")\n",
    "        direccion_del_contacto = input(\"Ingrese direccion\")\n",
    "        # llamar a la funcion\n",
    "        crear_contacto(nombre_del_contacto,\n",
    "        apellido_del_contacto, telefono_del_contacto, \n",
    "        direccion_del_contacto)\n",
    "        print(agenda)\n",
    "    elif opcion == 1:\n",
    "        mostrar_contacto(agenda)\n",
    "    \n",
    "    elif opcion == 3:\n",
    "        for index,persona in enumerate(agenda):\n",
    "            print(\"Numero \" + str(index + 1), \n",
    "            persona[\"Nombre\"] )\n",
    "        \n",
    "        nro_que_quiere_editar = int(\n",
    "            input(\"Nro que quiere editar\")) - 1\n",
    "        # Pedir datos del usuario\n",
    "        dato_a_editar = input(\"Dato a editar\")\n",
    "        nuevo_dato = input(\"Ingrese el nuevo dato\")\n",
    "        # cargar datos\n",
    "        agenda[nro_que_quiere_editar][dato_a_editar] = nuevo_dato\n",
    "\n",
    "\n",
    "    \n",
    "    opcion = int(input(\"Seleccione una opcion: \"))"
   ]
  },
  {
   "cell_type": "code",
   "execution_count": null,
   "metadata": {},
   "outputs": [],
   "source": [
    "def crear_contacto(nombre, apellido, telefono, direccion):\n",
    "    # Crear diccionario\n",
    "    contacto = {}\n",
    "    # Cargar datos\n",
    "    contacto[\"Nombre\"] = nombre\n",
    "    contacto[\"Apellido\"] = apellido\n",
    "    contacto[\"Telefono\"] = telefono\n",
    "    contacto[\"Direccion\"] = direccion\n",
    "    # Cargar a agenda\n",
    "    agenda.append(contacto)\n",
    " \n",
    "agenda = []\n",
    " \n",
    "def mostrar_contacto(agenda):\n",
    "    for contacto in agenda:\n",
    "        #print(agenda[0][\"Nombre\"])\n",
    "        print(\"Nombre:\", contacto[\"Nombre\"])\n",
    "        print(\"Apellido:\", contacto[\"Apellido\"])\n",
    "        print(\"Telefono:\", contacto[\"Telefono\"])\n",
    "        print(\"Direccion:\", contacto[\"Direccion\"])\n",
    " \n",
    "# Preguntar por opción\n",
    "opcion = int(input(\"Seleccione una opcion: \"))\n",
    " \n",
    "while True:\n",
    "    if opcion == 2:\n",
    "        # Carga de datos\n",
    "        nombre_del_contacto = input(\"Ingrese nombre\")\n",
    "        apellido_del_contacto = input(\"Ingrese apellido\")\n",
    "        telefono_del_contacto = input(\"Ingrese telefono\")\n",
    "        direccion_del_contacto = input(\"Ingrese direccion\")\n",
    "        # llamar a la funcion\n",
    "        crear_contacto(nombre_del_contacto,\n",
    "        apellido_del_contacto, telefono_del_contacto, \n",
    "        direccion_del_contacto)\n",
    "        print(agenda)\n",
    "    elif opcion == 1:\n",
    "        mostrar_contacto(agenda)\n",
    " \n",
    "    elif opcion == 3:\n",
    "        for index,persona in enumerate(agenda):\n",
    "            print(\"Numero \" + str(index + 1), \n",
    "            persona[\"Nombre\"] )\n",
    " \n",
    "        nro_que_quiere_editar = int(\n",
    "            input(\"Nro que quiere editar\")) - 1\n",
    "        # Pedir datos del usuario\n",
    "        dato_a_editar = input(\"Dato a editar\")\n",
    "        nuevo_dato = input(\"Ingrese el nuevo dato\")\n",
    "        # cargar datos\n",
    "        agenda[nro_que_quiere_editar][dato_a_editar] = nuevo_dato\n",
    " \n",
    " \n",
    " \n",
    "    opcion = int(input(\"Seleccione una opcion: \"))"
   ]
  }
 ],
 "metadata": {
  "interpreter": {
   "hash": "31f2aee4e71d21fbe5cf8b01ff0e069b9275f58929596ceb00d14d90e3e16cd6"
  },
  "kernelspec": {
   "display_name": "Python 3.8.9 64-bit",
   "language": "python",
   "name": "python3"
  },
  "language_info": {
   "codemirror_mode": {
    "name": "ipython",
    "version": 3
   },
   "file_extension": ".py",
   "mimetype": "text/x-python",
   "name": "python",
   "nbconvert_exporter": "python",
   "pygments_lexer": "ipython3",
   "version": "3.8.9"
  },
  "orig_nbformat": 4
 },
 "nbformat": 4,
 "nbformat_minor": 2
}
